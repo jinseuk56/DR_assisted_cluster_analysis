{
 "cells": [
  {
   "cell_type": "code",
   "execution_count": null,
   "id": "6987e8d9-72d7-4043-aeb8-0735d8902f32",
   "metadata": {},
   "outputs": [],
   "source": [
    "# dimensionality reduction and unsupervised clustering for EELS-SI\n",
    "# Jinseok Ryu (jinseuk56@gmail.com)\n",
    "# https://doi.org/10.1016/j.ultramic.2021.113314"
   ]
  },
  {
   "cell_type": "code",
   "execution_count": null,
   "id": "07711567-3a9f-45c4-8b9f-62729990b377",
   "metadata": {},
   "outputs": [],
   "source": [
    "from drca import DR_assisted_CA\n",
    "import tkinter.filedialog as tkf\n",
    "import matplotlib.pyplot as plt\n",
    "plt.rcParams['font.family'] = 'Times New Roman'"
   ]
  },
  {
   "cell_type": "code",
   "execution_count": null,
   "id": "880c4362-9a15-411d-a618-051f2149c75b",
   "metadata": {},
   "outputs": [],
   "source": [
    "file_adr = []"
   ]
  },
  {
   "cell_type": "code",
   "execution_count": null,
   "id": "f1edd05c-d25b-4b0d-a58a-9c646388fa1f",
   "metadata": {},
   "outputs": [],
   "source": [
    "file_adr.extend(tkf.askopenfilenames())"
   ]
  },
  {
   "cell_type": "code",
   "execution_count": null,
   "id": "e37087c3-19cd-4722-8998-d87001a39cb6",
   "metadata": {},
   "outputs": [],
   "source": [
    "%matplotlib inline"
   ]
  },
  {
   "cell_type": "code",
   "execution_count": null,
   "id": "aa3f07b1-4ccf-4c7b-9f82-054bda2b2e9a",
   "metadata": {},
   "outputs": [],
   "source": [
    "run_4DSTEM = DR_assisted_CA(file_adr, dat_dim=4, dat_unit='1/nm', rescale=False)"
   ]
  },
  {
   "cell_type": "code",
   "execution_count": null,
   "id": "b60a1cd5-32fb-4dce-87b4-6a1ffa0f45e1",
   "metadata": {},
   "outputs": [],
   "source": [
    "# find (and remove) the center of diffraction patterns\n",
    "run_4DSTEM.find_center(cbox_edge=7, center_remove=0, result_visual=True, log_scale=True)"
   ]
  },
  {
   "cell_type": "code",
   "execution_count": null,
   "id": "89f20b46-950c-4b8e-86bd-7d083870c512",
   "metadata": {},
   "outputs": [],
   "source": [
    "# prepare the input dataset (two options for flattening diffraction patterns)\n",
    "run_4DSTEM.make_input(min_val=0.0, max_normalize=True, \n",
    "           log_scale=True, radial_flat=False, \n",
    "           w_size=40, radial_range=[25, 40, 1])"
   ]
  },
  {
   "cell_type": "code",
   "execution_count": null,
   "id": "06503553-e314-4f3f-a5d8-0aa727abcc65",
   "metadata": {},
   "outputs": [],
   "source": [
    "# first decomposition (three options: NMF, PCA, CAE)\n",
    "run_4DSTEM.ini_DR(method=\"nmf\", num_comp=5, result_visual=True)"
   ]
  },
  {
   "cell_type": "code",
   "execution_count": null,
   "id": "3632bab3-6e5b-413e-8cfe-294e7942cdb3",
   "metadata": {},
   "outputs": [],
   "source": [
    "# second decomposition (t-SNE)\n",
    "run_4DSTEM.aug_DR(2, method=\"tsne\", perplex=[50])"
   ]
  },
  {
   "cell_type": "code",
   "execution_count": null,
   "id": "13626a11-a998-43ce-9ca4-88d91235d40a",
   "metadata": {},
   "outputs": [],
   "source": [
    "# select and quick-check the final DR space for cluster analysis\n",
    "run_4DSTEM.prepare_clustering(sel_ind=1, quick_visual=True)"
   ]
  },
  {
   "cell_type": "code",
   "execution_count": null,
   "id": "22407ff4-1589-463a-8016-51ad90b00acc",
   "metadata": {},
   "outputs": [],
   "source": [
    "# clustering\n",
    "%matplotlib widget\n",
    "run_4DSTEM.cluster_analysis(method=\"optics\")"
   ]
  },
  {
   "cell_type": "code",
   "execution_count": null,
   "id": "97ab1ab9-dc87-44d7-833d-93ce21995c2e",
   "metadata": {},
   "outputs": [],
   "source": [
    "%matplotlib inline"
   ]
  },
  {
   "cell_type": "code",
   "execution_count": null,
   "id": "5e1c4536-aefc-4c0f-980c-5f5b41754e91",
   "metadata": {},
   "outputs": [],
   "source": [
    "# clustering results (tf_map = True/False map for each cluster)\n",
    "run_4DSTEM.clustering_result(tf_map=True, normalize='max', log_scale=False)"
   ]
  }
 ],
 "metadata": {
  "kernelspec": {
   "display_name": "Python 3 (ipykernel)",
   "language": "python",
   "name": "python3"
  },
  "language_info": {
   "codemirror_mode": {
    "name": "ipython",
    "version": 3
   },
   "file_extension": ".py",
   "mimetype": "text/x-python",
   "name": "python",
   "nbconvert_exporter": "python",
   "pygments_lexer": "ipython3",
   "version": "3.10.9"
  }
 },
 "nbformat": 4,
 "nbformat_minor": 5
}
